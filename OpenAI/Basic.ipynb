{
 "cells": [
  {
   "cell_type": "code",
   "execution_count": 1,
   "metadata": {},
   "outputs": [],
   "source": [
    "import openai\n",
    "from dotenv import load_dotenv\n",
    "import os"
   ]
  },
  {
   "cell_type": "code",
   "execution_count": 2,
   "metadata": {},
   "outputs": [],
   "source": [
    "load_dotenv()\n",
    "\n",
    "openai.api_key = os.getenv(\"OPENAI_API_KEY\")"
   ]
  },
  {
   "cell_type": "code",
   "execution_count": 5,
   "metadata": {},
   "outputs": [],
   "source": [
    "responde = openai.completions.create(\n",
    "    model=\"gpt-3.5-turbo-instruct\",\n",
    "    prompt=\"Decide si el sentimiento de un Tweet es positivo, neutral, o negativo. \\\n",
    "    \\n\\nTweet: \\\"#LoNuevoEnPlatzi es el Platzibot 🤖. Un asistente creado con Inteligencia Artificial para acompañarte en tu proceso de aprendizaje.\\\n",
    "    \\\"\\nSentiment:\",\n",
    "    temperature=0,\n",
    "    max_tokens=60,\n",
    "    top_p=1,\n",
    "    frequency_penalty=0.5,\n",
    "    presence_penalty=0,\n",
    ")"
   ]
  },
  {
   "cell_type": "code",
   "execution_count": 6,
   "metadata": {},
   "outputs": [
    {
     "data": {
      "text/plain": [
       "' Neutral'"
      ]
     },
     "execution_count": 6,
     "metadata": {},
     "output_type": "execute_result"
    }
   ],
   "source": [
    "responde.choices[0].text"
   ]
  },
  {
   "cell_type": "code",
   "execution_count": 7,
   "metadata": {},
   "outputs": [],
   "source": [
    "response = openai.chat.completions.create(\n",
    "    model=\"gpt-3.5-turbo\",\n",
    "    messages=[\n",
    "        {\"role\": \"system\", \"content\" :\"You are a chatbot for a luxury real estate company.\"},\n",
    "        {\"role\": \"user\", \"content\" :\"I'm looking for a 3 bedroom house in the south of the city. I want to spend around $800,000. I also want to make sure it has a pool.\"},\n",
    "        {\"role\": \"assistant\", \"content\" : \"Certainly! Finding a luxurious 3-bedroom house in the southern part of the city with a pool and within your budget of $800,000 is a great choice. In order to assist you better, could you please specify the city or region where you're looking for this property? This will help me narrow down the search and provide you with the most suitable options\"},\n",
    "        {\"role\": \"user\", \"content\" :\"I'm looking for a house in Miami close to the beach.\"},\n",
    "    ],\n",
    "    max_tokens=100,\n",
    "    temperature=0.2,\n",
    "    stream=True\n",
    ")"
   ]
  },
  {
   "cell_type": "code",
   "execution_count": 12,
   "metadata": {},
   "outputs": [
    {
     "name": "stdout",
     "output_type": "stream",
     "text": [
      "! Miami is known for its beautiful beaches and luxury real estate options. I will now search for 3-bedroom houses in the southern part of Miami with a pool and within your budget of $800,000. Please give me a moment to find some suitable options for you."
     ]
    }
   ],
   "source": [
    "\n",
    "for chunk in response:\n",
    "    if chunk.choices[0].delta.content is not None:\n",
    "        print(chunk.choices[0].delta.content, end=\"\")"
   ]
  },
  {
   "cell_type": "code",
   "execution_count": null,
   "metadata": {},
   "outputs": [],
   "source": [
    "response = openai.chat.completions.create(\n",
    "    model=\"gpt-3.5-turbo\",\n",
    "    messages=[\n",
    "        {\"role\": \"system\", \"content\" :\"You are a chatbot for a luxury real estate company.\"},\n",
    "        {\"role\": \"user\", \"content\" :\"I'm looking for a 3 bedroom house in the south of the city. I want to spend around $800,000. I also want to make sure it has a pool.\"},\n",
    "        {\"role\": \"assistant\", \"content\" : \"Certainly! Finding a luxurious 3-bedroom house in the southern part of the city with a pool and within your budget of $800,000 is a great choice. In order to assist you better, could you please specify the city or region where you're looking for this property? This will help me narrow down the search and provide you with the most suitable options\"},\n",
    "        {\"role\": \"user\", \"content\" :\"I'm looking for a house in Miami close to the beach.\"},\n",
    "    ],\n",
    "    max_tokens=50,\n",
    "    temperature=0.2,\n",
    "    stream=True\n",
    ")"
   ]
  }
 ],
 "metadata": {
  "kernelspec": {
   "display_name": "base",
   "language": "python",
   "name": "python3"
  },
  "language_info": {
   "codemirror_mode": {
    "name": "ipython",
    "version": 3
   },
   "file_extension": ".py",
   "mimetype": "text/x-python",
   "name": "python",
   "nbconvert_exporter": "python",
   "pygments_lexer": "ipython3",
   "version": "3.10.13"
  }
 },
 "nbformat": 4,
 "nbformat_minor": 2
}
