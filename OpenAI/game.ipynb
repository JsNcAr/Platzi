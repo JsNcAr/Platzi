{
 "cells": [
  {
   "cell_type": "code",
   "execution_count": 1,
   "metadata": {},
   "outputs": [],
   "source": [
    "import openai\n",
    "from dotenv import load_dotenv\n",
    "import os\n",
    "import requests\n",
    "import random"
   ]
  },
  {
   "cell_type": "code",
   "execution_count": 2,
   "metadata": {},
   "outputs": [],
   "source": [
    "load_dotenv()\n",
    "OPENAI_API_KEY = os.getenv(\"OPENAI_API_KEY\")"
   ]
  },
  {
   "cell_type": "code",
   "execution_count": 3,
   "metadata": {},
   "outputs": [],
   "source": [
    "def get_clue():\n",
    "    url = \"https://pokeapi.co/api/v2/pokemon/?limit=151\"  # Limit set to 151 for Generation I Pokémon\n",
    "\n",
    "    response = requests.get(url)\n",
    "    if response.status_code == 200:\n",
    "        pokemons = response.json()[\"results\"]\n",
    "    else:\n",
    "        print(\"Failed to fetch Pokémon data. Status code:\", response.status_code)\n",
    "        \n",
    "    random_pokemon = random.choice(pokemons)\n",
    "    prompt = \"It is a first generation Pokémon\"\n",
    "    return prompt, random_pokemon[\"name\"]"
   ]
  },
  {
   "cell_type": "code",
   "execution_count": 4,
   "metadata": {},
   "outputs": [],
   "source": [
    "def check_answer(answer, pokemon):\n",
    "    if answer.lower() == pokemon.lower():\n",
    "        return True\n",
    "    else:\n",
    "        return False"
   ]
  },
  {
   "cell_type": "code",
   "execution_count": 5,
   "metadata": {},
   "outputs": [],
   "source": [
    "def give_hint(pokemon):\n",
    "    response = openai.chat.completions.create(\n",
    "        model=\"gpt-3.5-turbo\",\n",
    "        messages=[\n",
    "            {\"role\": \"system\", \"content\": \"You are a game that gives the user hints about a pokemon it is trying to guess but you never give the name of the pokemon, also you try to give different hints every time, the pokemon the user is trying to guess is: \" + pokemon},\n",
    "            {\"role\": \"user\", \"content\" : \"Give me a feature of the pokemon\"},\n",
    "        ],\n",
    "        max_tokens=50,\n",
    "        temperature=0.9,\n",
    "    )\n",
    "    return response.choices[0].message.content"
   ]
  },
  {
   "cell_type": "code",
   "execution_count": 6,
   "metadata": {},
   "outputs": [],
   "source": [
    "def play():\n",
    "    prompt, pokemon = get_clue()\n",
    "    print(prompt)\n",
    "    tries = 0\n",
    "    while tries < 7:\n",
    "        tries += 1\n",
    "        answer = input(\"Answer: \")\n",
    "        if check_answer(answer, pokemon):\n",
    "            print(\"Correct!\")\n",
    "            break\n",
    "        else:\n",
    "            print(\"Incorrect!\")\n",
    "            print(give_hint(pokemon))"
   ]
  },
  {
   "cell_type": "code",
   "execution_count": 7,
   "metadata": {},
   "outputs": [
    {
     "name": "stdout",
     "output_type": "stream",
     "text": [
      "It is a first generation Pokémon\n",
      "Incorrect!\n",
      "This Pokemon has a plant bulb on its back, which grows larger as it evolves.\n",
      "Incorrect!\n",
      "This Pokemon is known for its large, leaf-like appendages on its back.\n",
      "Correct!\n"
     ]
    }
   ],
   "source": [
    "play()"
   ]
  }
 ],
 "metadata": {
  "kernelspec": {
   "display_name": "base",
   "language": "python",
   "name": "python3"
  },
  "language_info": {
   "codemirror_mode": {
    "name": "ipython",
    "version": 3
   },
   "file_extension": ".py",
   "mimetype": "text/x-python",
   "name": "python",
   "nbconvert_exporter": "python",
   "pygments_lexer": "ipython3",
   "version": "3.1.0"
  }
 },
 "nbformat": 4,
 "nbformat_minor": 2
}
