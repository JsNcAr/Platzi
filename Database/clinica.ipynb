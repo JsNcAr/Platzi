{
 "cells": [
  {
   "cell_type": "code",
   "execution_count": null,
   "metadata": {},
   "outputs": [],
   "source": [
    "import numpy as np\n",
    "import pandas as pd\n",
    "import mysql.connector\n"
   ]
  },
  {
   "cell_type": "code",
   "execution_count": null,
   "metadata": {},
   "outputs": [],
   "source": [
    "#save key from keys.txt\n",
    "with open('keys.txt') as f:\n",
    "    lines = f.readlines()\n",
    "    key = lines[0].strip()\n"
   ]
  },
  {
   "cell_type": "code",
   "execution_count": null,
   "metadata": {},
   "outputs": [],
   "source": [
    "db = mysql.connector.connect(\n",
    "    host=\"localhost\",\n",
    "    user=\"ramsus\",\n",
    "    passwd=key,\n",
    "    database=\"pagos\"\n",
    ")\n"
   ]
  },
  {
   "cell_type": "code",
   "execution_count": null,
   "metadata": {},
   "outputs": [],
   "source": [
    "mycursor = db.cursor()\n",
    "\n",
    "mycursor.execute(\"DESCRIBE pagos\")"
   ]
  },
  {
   "cell_type": "code",
   "execution_count": null,
   "metadata": {},
   "outputs": [],
   "source": [
    "describe = mycursor.fetchall()"
   ]
  },
  {
   "cell_type": "code",
   "execution_count": null,
   "metadata": {},
   "outputs": [],
   "source": [
    "for x in describe:\n",
    "    print(x)"
   ]
  },
  {
   "cell_type": "code",
   "execution_count": null,
   "metadata": {},
   "outputs": [],
   "source": [
    "excel = pd.read_csv('pagos.csv', encoding='latin-1', sep=';')\n",
    "del excel['%']\n",
    "excel.dropna(inplace=True)\n",
    "# convert Si in True and No in False\n",
    "excel['Nequi'] = excel['Nequi'].map({'Si': 1, 'No': 0})\n",
    "excel['Datafono'] = excel['Datafono'].map({'Si': 1, 'No': 0})\n",
    "excel['Transferencia'] = excel['Transferencia'].map({'Si': 1, 'No': 0})\n",
    "excel['Efectivo'] = excel['Efectivo'].map({'Si': 1, 'No': 0})\n",
    "# convert value to number and remove the $ symbol and .\n",
    "excel['Valor'] = excel['Valor'].str.replace('$', '')\n",
    "excel['Valor'] = excel['Valor'].str.replace('.', '')\n",
    "excel['Valor'] = excel['Valor'].astype(int)\n",
    "# convert date in format day/month/year to datetime\n",
    "excel['Fecha'] = pd.to_datetime(excel['Fecha'], format='%d/%m/%Y')\n",
    "\n",
    "excel.reset_index(drop=True, inplace=True)\n",
    "\n",
    "excel"
   ]
  },
  {
   "cell_type": "code",
   "execution_count": null,
   "metadata": {},
   "outputs": [],
   "source": [
    "# convert pandas to sql\n",
    "for i in range(len(excel)):\n",
    "      mycursor.execute(\n",
    "            \"INSERT INTO pagos (paciente, valor, actividad, fecha, Nequi, Datafono, Transferencia, Efectivo) \\\n",
    "            VALUES (%s, %s, %s, %s, %s, %s, %s, %s)\",\n",
    "            (excel['Paciente'][i], int(excel['Valor'][i]), excel['Actividad'][i], excel['Fecha'][i], int(excel['Nequi'][i]), int(excel['Datafono'][i]), int(excel['Transferencia'][i]), int(excel['Efectivo'][i]))\n",
    "      )"
   ]
  },
  {
   "cell_type": "code",
   "execution_count": null,
   "metadata": {},
   "outputs": [],
   "source": [
    "# check changes\n",
    "db.commit()\n",
    "\n",
    "# check changes\n",
    "mycursor.execute(\"SELECT * FROM pagos\")\n",
    "\n",
    "myresult = mycursor.fetchall()\n",
    "\n",
    "for x in myresult:\n",
    "    print(x)\n",
    "\n"
   ]
  },
  {
   "cell_type": "code",
   "execution_count": null,
   "metadata": {},
   "outputs": [],
   "source": [
    "# close connection\n",
    "db.close()"
   ]
  }
 ],
 "metadata": {
  "kernelspec": {
   "display_name": "base",
   "language": "python",
   "name": "python3"
  },
  "language_info": {
   "codemirror_mode": {
    "name": "ipython",
    "version": 3
   },
   "file_extension": ".py",
   "mimetype": "text/x-python",
   "name": "python",
   "nbconvert_exporter": "python",
   "pygments_lexer": "ipython3",
   "version": "3.10.9"
  },
  "orig_nbformat": 4
 },
 "nbformat": 4,
 "nbformat_minor": 2
}
